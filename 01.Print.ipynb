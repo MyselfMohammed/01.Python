{
 "cells": [
  {
   "cell_type": "code",
   "execution_count": 1,
   "id": "163f979a-0695-4b8a-ab21-33b2c00096c0",
   "metadata": {},
   "outputs": [
    {
     "name": "stdout",
     "output_type": "stream",
     "text": [
      "\n"
     ]
    }
   ],
   "source": [
    "print()"
   ]
  },
  {
   "cell_type": "code",
   "execution_count": 3,
   "id": "c1b5abc3-1bfb-41a8-bc42-7738a8f930bf",
   "metadata": {},
   "outputs": [
    {
     "name": "stdout",
     "output_type": "stream",
     "text": [
      "Welcome To Hope AI\n"
     ]
    }
   ],
   "source": [
    "print(\"Welcome To Hope AI\")"
   ]
  },
  {
   "cell_type": "code",
   "execution_count": 1,
   "id": "7e26797e-c03a-445d-96f6-fc1d07d7a9c3",
   "metadata": {},
   "outputs": [
    {
     "name": "stdout",
     "output_type": "stream",
     "text": [
      "Welcome To Hope AI\n"
     ]
    }
   ],
   "source": [
    "print(\"Welcome To Hope AI\")"
   ]
  },
  {
   "cell_type": "code",
   "execution_count": null,
   "id": "a8b106f5-0c60-46c0-993e-91dc48dd0cd7",
   "metadata": {},
   "outputs": [],
   "source": []
  }
 ],
 "metadata": {
  "kernelspec": {
   "display_name": "Python 3 (ipykernel)",
   "language": "python",
   "name": "python3"
  },
  "language_info": {
   "codemirror_mode": {
    "name": "ipython",
    "version": 3
   },
   "file_extension": ".py",
   "mimetype": "text/x-python",
   "name": "python",
   "nbconvert_exporter": "python",
   "pygments_lexer": "ipython3",
   "version": "3.12.4"
  }
 },
 "nbformat": 4,
 "nbformat_minor": 5
}
