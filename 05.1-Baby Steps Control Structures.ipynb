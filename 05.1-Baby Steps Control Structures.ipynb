{
 "cells": [
  {
   "cell_type": "code",
   "execution_count": 1,
   "id": "d518664e-a5b6-4749-8644-49fb1b968851",
   "metadata": {},
   "outputs": [
    {
     "name": "stdout",
     "output_type": "stream",
     "text": [
      "Welcome to Assignment-1\n"
     ]
    }
   ],
   "source": [
    "print(\"Welcome to Assignment-1\")"
   ]
  },
  {
   "cell_type": "code",
   "execution_count": 5,
   "id": "1ddb0126-5bf9-45b4-8a17-78e8bb8d0295",
   "metadata": {},
   "outputs": [
    {
     "name": "stdout",
     "output_type": "stream",
     "text": [
      "40\n"
     ]
    }
   ],
   "source": [
    "Num1= 10\n",
    "Num2= 30\n",
    "print(Num1+Num2)"
   ]
  },
  {
   "cell_type": "code",
   "execution_count": 34,
   "id": "57903778-fc90-4b8a-8498-1df60956193a",
   "metadata": {},
   "outputs": [
    {
     "name": "stdin",
     "output_type": "stream",
     "text": [
      "Enter the Your BMI Index : 20\n"
     ]
    },
    {
     "name": "stdout",
     "output_type": "stream",
     "text": [
      "Normal\n"
     ]
    }
   ],
   "source": [
    "    bmi=int(input(\"Enter the Your BMI Index :\"))\n",
    "    #for bmi in bmi_Input :\n",
    "    if (bmi<16.5):\n",
    "     print(\"Severely Underweight\")\n",
    "    elif(bmi<18.5):\n",
    "     print(\"Underweight\")\n",
    "    elif(bmi<25):\n",
    "     print(\"Normal\")\n",
    "    elif(bmi<30):\n",
    "     print(\"Overweight\")\n",
    "    elif(bmi<35):\n",
    "     print(\"Obese Class - 01\")\n",
    "    elif(bmi<40):\n",
    "     print(\"Obese Class - 02\")\n",
    "    elif(bmi<45):\n",
    "     print(\"Severely Obese\")\n",
    "    elif(bmi<50):\n",
    "     print(\"Morbidly Obese\")\n",
    "    elif(bmi<60):\n",
    "     print(\"Super Obese\")\n",
    "    else:\n",
    "     print(\"Hyper Obese\")\n"
   ]
  },
  {
   "cell_type": "code",
   "execution_count": null,
   "id": "1f870f34-b8ed-4273-87a0-7441197c2db2",
   "metadata": {},
   "outputs": [],
   "source": []
  },
  {
   "cell_type": "code",
   "execution_count": null,
   "id": "fac4d743-6daf-483f-a5e1-baf120268f6e",
   "metadata": {},
   "outputs": [],
   "source": []
  }
 ],
 "metadata": {
  "kernelspec": {
   "display_name": "Python 3 (ipykernel)",
   "language": "python",
   "name": "python3"
  },
  "language_info": {
   "codemirror_mode": {
    "name": "ipython",
    "version": 3
   },
   "file_extension": ".py",
   "mimetype": "text/x-python",
   "name": "python",
   "nbconvert_exporter": "python",
   "pygments_lexer": "ipython3",
   "version": "3.12.4"
  }
 },
 "nbformat": 4,
 "nbformat_minor": 5
}
