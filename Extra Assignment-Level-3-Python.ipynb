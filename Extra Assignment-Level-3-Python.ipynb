{
 "cells": [
  {
   "cell_type": "code",
   "execution_count": 103,
   "id": "28aa44f0-46ab-4b42-b7ae-831a9e500ce8",
   "metadata": {},
   "outputs": [
    {
     "name": "stdin",
     "output_type": "stream",
     "text": [
      "Enter the Input for num : 10\n"
     ]
    },
    {
     "name": "stdout",
     "output_type": "stream",
     "text": [
      "Correct\n"
     ]
    }
   ],
   "source": [
    "# print 'CORRECT' if i == 10\n",
    "\n",
    "num = int(input(\"Enter the Input for num :\"))\n",
    "if num == 10:\n",
    " print(\"Correct\")\n",
    "#else :\n",
    " #print(\"Incorrect\")"
   ]
  },
  {
   "cell_type": "code",
   "execution_count": 63,
   "id": "d7883c09-1afc-46ae-899c-ec2d3534889f",
   "metadata": {},
   "outputs": [
    {
     "name": "stdin",
     "output_type": "stream",
     "text": [
      "Enter the Your Password : HOPE@123\n"
     ]
    },
    {
     "name": "stdout",
     "output_type": "stream",
     "text": [
      "Your Password is Correct\n"
     ]
    }
   ],
   "source": [
    "# Check the password, using if and else\n",
    "\n",
    "enteredPassword = (input(\"Enter the Your Password :\"))\n",
    "if enteredPassword == (\"HOPE@123\") :\n",
    " print(\"Your Password is Correct\")\n",
    "else :\n",
    " print(\"Your Password is Incorrect\")"
   ]
  },
  {
   "cell_type": "code",
   "execution_count": 65,
   "id": "ea0d6a96-bf0f-48f0-aec0-641abd0f2bdf",
   "metadata": {},
   "outputs": [
    {
     "name": "stdout",
     "output_type": "stream",
     "text": [
      "Children\n",
      "Adult\n",
      "Adult\n",
      "Citizen\n",
      "Citizen\n",
      "Senior Citizen\n",
      "Senior Citizen\n",
      "Senior Citizen\n",
      "Senior Citizen\n",
      "Senior Citizen\n"
     ]
    }
   ],
   "source": [
    "# Catagory the people by their age like children, adult, citizen, senior citizen...\n",
    "\n",
    "listOfAge=[10,20,30,40,50,60,70,80,90,100]\n",
    "\n",
    "for age in listOfAge :\n",
    "    if (age<18):\n",
    "        print(\"Children\")\n",
    "    elif(age<35):\n",
    "        print(\"Adult\")\n",
    "    elif(age<59):\n",
    "        print(\"Citizen\")\n",
    "    else:\n",
    "        print(\"Senior Citizen\")"
   ]
  },
  {
   "cell_type": "code",
   "execution_count": 73,
   "id": "4344ad03-7730-43a3-bfc7-1e8ed17b3e1a",
   "metadata": {},
   "outputs": [
    {
     "name": "stdin",
     "output_type": "stream",
     "text": [
      "Enter a number:  1.5\n"
     ]
    },
    {
     "name": "stdout",
     "output_type": "stream",
     "text": [
      "Positive number\n"
     ]
    }
   ],
   "source": [
    "# Find whether given number is positive or negative\n",
    "\n",
    "num = float(input(\"Enter any number: \"))\n",
    "if num > 0:\n",
    "   print(\"Positive Number\")\n",
    "elif num == 0:\n",
    "   print(\"Zero\")\n",
    "else:\n",
    "   print(\"Negative Number\")"
   ]
  },
  {
   "cell_type": "code",
   "execution_count": 97,
   "id": "48e28f0a-9bdf-4eb3-a80b-83fa676a568d",
   "metadata": {},
   "outputs": [
    {
     "name": "stdin",
     "output_type": "stream",
     "text": [
      "Enter a Number to Check :  10\n"
     ]
    },
    {
     "name": "stdout",
     "output_type": "stream",
     "text": [
      "10.0 is Divisible by 5\n"
     ]
    }
   ],
   "source": [
    " # Check whether the given number is divisible by 5\n",
    "\n",
    "num = float(input(\"Enter a Number to Check : \"))\n",
    "if num % 5 == 0:\n",
    "    print((num), \"is Divisible by 5\")\n",
    "else:\n",
    "   print((num), \"is Not Divisible by 5\")"
   ]
  },
  {
   "cell_type": "code",
   "execution_count": null,
   "id": "33f1b9b7-4ff7-49e8-b1c2-fd2d589e00a0",
   "metadata": {},
   "outputs": [],
   "source": []
  }
 ],
 "metadata": {
  "kernelspec": {
   "display_name": "Python 3 (ipykernel)",
   "language": "python",
   "name": "python3"
  },
  "language_info": {
   "codemirror_mode": {
    "name": "ipython",
    "version": 3
   },
   "file_extension": ".py",
   "mimetype": "text/x-python",
   "name": "python",
   "nbconvert_exporter": "python",
   "pygments_lexer": "ipython3",
   "version": "3.12.4"
  }
 },
 "nbformat": 4,
 "nbformat_minor": 5
}
