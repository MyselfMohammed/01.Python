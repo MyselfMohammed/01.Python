{
 "cells": [
  {
   "cell_type": "code",
   "execution_count": 19,
   "id": "07058a02-ff75-4d1e-bb42-b0c555df5de1",
   "metadata": {},
   "outputs": [
    {
     "name": "stdout",
     "output_type": "stream",
     "text": [
      "The Addition of Two Numbers\n",
      "The Number1 : 10\n",
      "The Number2 : 20\n",
      "The Answer : 30\n"
     ]
    }
   ],
   "source": [
    "print(\"The Addition of Two Numbers\")\n",
    "num1=10\n",
    "print(\"The Number1 :\",num1)\n",
    "num2=20\n",
    "print(\"The Number2 :\",num2)\n",
    "print(\"The Answer :\",num1+num2)"
   ]
  },
  {
   "cell_type": "code",
   "execution_count": 33,
   "id": "bf094146-0bf4-4022-84f6-3f37c1c18391",
   "metadata": {},
   "outputs": [
    {
     "name": "stdin",
     "output_type": "stream",
     "text": [
      "Enter the Input for num1 : 10\n",
      "Enter the Input for num2 : 20\n"
     ]
    },
    {
     "name": "stdout",
     "output_type": "stream",
     "text": [
      "Sum of Two Numbers : 30\n"
     ]
    }
   ],
   "source": []
  },
  {
   "cell_type": "code",
   "execution_count": null,
   "id": "4884efef-da38-4cdc-b019-261b07295012",
   "metadata": {},
   "outputs": [],
   "source": []
  },
  {
   "cell_type": "code",
   "execution_count": null,
   "id": "ec266ca2-6771-4da3-bcad-1430deefcc15",
   "metadata": {},
   "outputs": [],
   "source": []
  },
  {
   "cell_type": "code",
   "execution_count": null,
   "id": "c63834ae-64a7-44b4-9ba3-b10f3046cdbf",
   "metadata": {},
   "outputs": [],
   "source": []
  }
 ],
 "metadata": {
  "kernelspec": {
   "display_name": "Python 3 (ipykernel)",
   "language": "python",
   "name": "python3"
  },
  "language_info": {
   "codemirror_mode": {
    "name": "ipython",
    "version": 3
   },
   "file_extension": ".py",
   "mimetype": "text/x-python",
   "name": "python",
   "nbconvert_exporter": "python",
   "pygments_lexer": "ipython3",
   "version": "3.12.4"
  }
 },
 "nbformat": 4,
 "nbformat_minor": 5
}
