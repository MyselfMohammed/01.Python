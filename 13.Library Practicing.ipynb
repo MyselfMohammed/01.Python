{
 "cells": [
  {
   "cell_type": "code",
   "execution_count": 1,
   "id": "4761585f-b1cb-4d4e-aba3-e9903afa563e",
   "metadata": {},
   "outputs": [],
   "source": [
    "#from filName import className\n",
    "from MultipleFunctions import multipleFunctionedClass"
   ]
  },
  {
   "cell_type": "code",
   "execution_count": 3,
   "id": "d8010dc5-ee20-4b1a-86a7-4fe80d3f4bac",
   "metadata": {},
   "outputs": [
    {
     "name": "stdin",
     "output_type": "stream",
     "text": [
      "Enter the Your BMI Index : 10\n"
     ]
    },
    {
     "name": "stdout",
     "output_type": "stream",
     "text": [
      "Severely Underweight\n"
     ]
    },
    {
     "data": {
      "text/plain": [
       "'Severely Underweight'"
      ]
     },
     "execution_count": 3,
     "metadata": {},
     "output_type": "execute_result"
    }
   ],
   "source": [
    "#className.FunctionName\n",
    "multipleFunctionedClass.BMI()"
   ]
  },
  {
   "cell_type": "code",
   "execution_count": 5,
   "id": "7e93abb1-09dc-4c65-bfc8-c31a416fcec8",
   "metadata": {},
   "outputs": [
    {
     "name": "stdin",
     "output_type": "stream",
     "text": [
      "Enter any Number to Check that It is Odd or Even : 10\n"
     ]
    },
    {
     "name": "stdout",
     "output_type": "stream",
     "text": [
      "Entered Number is Even\n"
     ]
    },
    {
     "data": {
      "text/plain": [
       "'Returned Value is Even'"
      ]
     },
     "execution_count": 5,
     "metadata": {},
     "output_type": "execute_result"
    }
   ],
   "source": [
    "#className.FunctionName\n",
    "multipleFunctionedClass.isYourNumberOddOrEven()"
   ]
  },
  {
   "cell_type": "code",
   "execution_count": null,
   "id": "cc52ab3a-3f7a-41ec-8fe0-e78efc1b8712",
   "metadata": {},
   "outputs": [],
   "source": []
  }
 ],
 "metadata": {
  "kernelspec": {
   "display_name": "Python 3 (ipykernel)",
   "language": "python",
   "name": "python3"
  },
  "language_info": {
   "codemirror_mode": {
    "name": "ipython",
    "version": 3
   },
   "file_extension": ".py",
   "mimetype": "text/x-python",
   "name": "python",
   "nbconvert_exporter": "python",
   "pygments_lexer": "ipython3",
   "version": "3.12.4"
  }
 },
 "nbformat": 4,
 "nbformat_minor": 5
}
