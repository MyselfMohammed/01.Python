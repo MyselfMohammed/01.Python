{
 "cells": [
  {
   "cell_type": "code",
   "execution_count": 7,
   "id": "ce929323-96bc-4e23-83e7-63dc1f793ed8",
   "metadata": {},
   "outputs": [],
   "source": [
    "#Create a function and list out the items in the list\n",
    "\n",
    "def topicsInAI():\n",
    "    \n",
    "    topics=[\"Sub-fields in AI are:\",\"Machine Learning\",\"Neural Networks\",\"Vision\",\"Robotics\",\"Speech Processing\",\"Natural Language Processing\"]\n",
    "    verticalString=''\n",
    "    \n",
    "    for eachTopic in topics :\n",
    "     verticalString+= eachTopic + \"\\n\"\n",
    "            \n",
    "    print(str(verticalString))"
   ]
  },
  {
   "cell_type": "code",
   "execution_count": 9,
   "id": "7fca0e07-3e1e-43ce-9c98-5a89acf07a60",
   "metadata": {},
   "outputs": [
    {
     "name": "stdout",
     "output_type": "stream",
     "text": [
      "Sub-fields in AI are:\n",
      "Machine Learning\n",
      "Neural Networks\n",
      "Vision\n",
      "Robotics\n",
      "Speech Processing\n",
      "Natural Language Processing\n",
      "\n"
     ]
    }
   ],
   "source": [
    "topicsInAI()"
   ]
  },
  {
   "cell_type": "code",
   "execution_count": 19,
   "id": "0f837a8d-01c5-4351-8414-c2ddb2e3c150",
   "metadata": {},
   "outputs": [],
   "source": [
    "# Create a function that checks whether the given number is Odd or Even\n",
    "def isYourNumberOddOrEven ():\n",
    "    num=int(input(\"Enter a number:\"))\n",
    "    if((num%2)==0):\n",
    "        print(num,\"is Even Number\")\n",
    "    else:\n",
    "        print(num,\"is Odd Number\")"
   ]
  },
  {
   "cell_type": "code",
   "execution_count": 25,
   "id": "f59639be-5f2d-4db2-9f73-28ede0deefc8",
   "metadata": {},
   "outputs": [
    {
     "name": "stdin",
     "output_type": "stream",
     "text": [
      "Enter a number: 52452\n"
     ]
    },
    {
     "name": "stdout",
     "output_type": "stream",
     "text": [
      "52452 is Even Number\n"
     ]
    }
   ],
   "source": [
    "isYourNumberOddOrEven()"
   ]
  },
  {
   "cell_type": "code",
   "execution_count": 96,
   "id": "df6f5510-85e6-4fcc-a5f4-77bd400296b5",
   "metadata": {},
   "outputs": [],
   "source": [
    "# Create a function that tells elegibility of marriage for male and female according to their age limit like 21 for male and 18 for female\n",
    "def marriageEligibilityCheck(gender,age):\n",
    "      \n",
    "      if gender == (\"Male\") and age>=21:\n",
    "          print(\"Your Gender :\", gender)\n",
    "          print(\"Your Age :\", age)\n",
    "          print (\"Eligible For Marriage\")\n",
    "      elif gender == (\"Male\") and age<21:\n",
    "          print(\"Your Gender :\", gender)\n",
    "          print(\"Your Age :\", age)\n",
    "          print (\"Not Eligible For Marriage\")\n",
    "      elif gender == (\"Female\") and age>=18:\n",
    "          print(\"Your Gender :\", gender)\n",
    "          print(\"Your Age :\", age)\n",
    "          print (\"Eligible For Marriage\")\n",
    "      else: #gender == (\"Female\") and age<18:\n",
    "          print(\"Your Gender :\", gender)\n",
    "          print(\"Your Age :\", age)\n",
    "          print (\"Not Eligible For Marriage\")\n",
    "        "
   ]
  },
  {
   "cell_type": "code",
   "execution_count": 106,
   "id": "7eea2a72-c3e7-4fce-a040-178c33e76feb",
   "metadata": {},
   "outputs": [
    {
     "name": "stdout",
     "output_type": "stream",
     "text": [
      "Your Gender : Female\n",
      "Your Age : 19\n",
      "Eligible For Marriage\n"
     ]
    }
   ],
   "source": [
    "marriageEligibilityCheck(\"Male\",19)"
   ]
  },
  {
   "cell_type": "code",
   "execution_count": 182,
   "id": "582a75ec-f40d-44df-8eba-96a2ae452dd4",
   "metadata": {},
   "outputs": [],
   "source": [
    "# calculate the percentage of your 10th mark\n",
    "\n",
    "def calculateMarkPercentage(Tamil,English,Maths,Science,SocialScience):\n",
    "    print(\"Subject-01 :\",Tamil)\n",
    "    print(\"Subject-02 :\",English)\n",
    "    print(\"Subject-03 :\",Maths)\n",
    "    print(\"Subject-04 :\",Science)\n",
    "    print(\"Subject-05 :\",SocialScience)\n",
    "    total=(Tamil+English+Maths+Science+SocialScience)\n",
    "    print(\"Total :\", total)\n",
    "    print(\"Percentage :\",((float(total / 500)) * 100))"
   ]
  },
  {
   "cell_type": "code",
   "execution_count": 184,
   "id": "68a8034b-b8d1-47a3-bd1c-1eafe8f564c8",
   "metadata": {},
   "outputs": [
    {
     "name": "stdout",
     "output_type": "stream",
     "text": [
      "Subject-01 : 50\n",
      "Subject-02 : 60\n",
      "Subject-03 : 70\n",
      "Subject-04 : 80\n",
      "Subject-05 : 90\n",
      "Total : 350\n",
      "Percentage : 70.0\n"
     ]
    }
   ],
   "source": [
    "calculateMarkPercentage(50,60,70,80,90)"
   ]
  },
  {
   "cell_type": "code",
   "execution_count": 186,
   "id": "1624d5d7-7cdc-47e0-9b57-22dd174e6b88",
   "metadata": {},
   "outputs": [],
   "source": [
    "#print area of triangle using functions\n",
    "\n",
    "def areaOfTriangle(Height,Breadth):\n",
    "    print(\"Height :\",Height)\n",
    "    print(\"Breadh :\",Breadth)\n",
    "    print(\"Area of Triangle :\",(Height*Breadth)/2)\n",
    "   "
   ]
  },
  {
   "cell_type": "code",
   "execution_count": 204,
   "id": "f8e394be-ba11-4a42-b2b6-16a25d036093",
   "metadata": {},
   "outputs": [
    {
     "name": "stdout",
     "output_type": "stream",
     "text": [
      "Height : 32\n",
      "Breadh : 34\n",
      "Area of Triangle : 544.0\n"
     ]
    }
   ],
   "source": [
    "areaOfTriangle(32,34)"
   ]
  },
  {
   "cell_type": "code",
   "execution_count": 200,
   "id": "dab97b3c-52b3-4fbd-810f-1f4659d60b0a",
   "metadata": {},
   "outputs": [],
   "source": [
    "#print perimeter of triangle using functions\n",
    "\n",
    "def perimeterOfTriangle(Height1,Height2,Breadth):\n",
    "    print(\"Height-01 :\",Height1)\n",
    "    print(\"Height-02 :\",Height2)\n",
    "    print(\"Breadh :\",Breadth)\n",
    "    print(\"Perimeter of Triangle :\",(Height1 + Height2 + Breadth))"
   ]
  },
  {
   "cell_type": "code",
   "execution_count": 206,
   "id": "1fbb9999-a0a4-4c1b-b1bd-a14e7d16c82c",
   "metadata": {},
   "outputs": [
    {
     "name": "stdout",
     "output_type": "stream",
     "text": [
      "Height-01 : 2\n",
      "Height-02 : 4\n",
      "Breadh : 4\n",
      "Perimeter of Triangle : 10\n"
     ]
    }
   ],
   "source": [
    "perimeterOfTriangle(2,4,4)"
   ]
  },
  {
   "cell_type": "code",
   "execution_count": null,
   "id": "7d77e33a-54ae-4754-9603-4ecdfccdd529",
   "metadata": {},
   "outputs": [],
   "source": []
  }
 ],
 "metadata": {
  "kernelspec": {
   "display_name": "Python 3 (ipykernel)",
   "language": "python",
   "name": "python3"
  },
  "language_info": {
   "codemirror_mode": {
    "name": "ipython",
    "version": 3
   },
   "file_extension": ".py",
   "mimetype": "text/x-python",
   "name": "python",
   "nbconvert_exporter": "python",
   "pygments_lexer": "ipython3",
   "version": "3.12.4"
  }
 },
 "nbformat": 4,
 "nbformat_minor": 5
}
