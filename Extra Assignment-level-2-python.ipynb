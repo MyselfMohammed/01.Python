{
 "cells": [
  {
   "cell_type": "code",
   "execution_count": 1,
   "id": "a6594c38-8927-4a69-832f-a1224cefc136",
   "metadata": {},
   "outputs": [
    {
     "name": "stdout",
     "output_type": "stream",
     "text": [
      "0\n",
      "1\n",
      "2\n",
      "3\n",
      "4\n",
      "5\n",
      "6\n",
      "7\n",
      "8\n",
      "9\n",
      "10\n",
      "11\n",
      "12\n",
      "13\n",
      "14\n",
      "15\n",
      "16\n",
      "17\n",
      "18\n",
      "19\n",
      "20\n"
     ]
    }
   ],
   "source": [
    "# print 0 to 20 by using range\n",
    "for num in range(0,21):\n",
    "  print(num)"
   ]
  },
  {
   "cell_type": "code",
   "execution_count": 3,
   "id": "d7406eeb-f77c-4b10-885e-deae732d2e74",
   "metadata": {},
   "outputs": [
    {
     "name": "stdout",
     "output_type": "stream",
     "text": [
      "10\n",
      "11\n",
      "12\n",
      "13\n",
      "14\n",
      "15\n",
      "16\n",
      "17\n",
      "18\n",
      "19\n",
      "20\n"
     ]
    }
   ],
   "source": [
    "# print range 10 to 20\n",
    "for num in range(10,21):\n",
    "  print(num)"
   ]
  },
  {
   "cell_type": "code",
   "execution_count": 9,
   "id": "8a5fecb0-0804-4017-8976-9412aae75f16",
   "metadata": {},
   "outputs": [
    {
     "name": "stdout",
     "output_type": "stream",
     "text": [
      "Total Number of Roll Numbers Registered : 6\n"
     ]
    }
   ],
   "source": [
    "# Print number of items in the list by using 'len'\n",
    "rollNumber=[0,1,2,3,4,5]\n",
    "print(\"Total Number of Roll Numbers Registered :\",len(rollNumber))"
   ]
  },
  {
   "cell_type": "code",
   "execution_count": 46,
   "id": "44723e27-4169-44ee-ba47-5d8367eb2906",
   "metadata": {},
   "outputs": [
    {
     "name": "stdout",
     "output_type": "stream",
     "text": [
      "A\n",
      "r\n",
      "t\n",
      "i\n",
      "f\n",
      "i\n",
      "c\n",
      "i\n",
      "a\n",
      "l\n",
      " \n",
      "I\n",
      "n\n",
      "t\n",
      "e\n",
      "l\n",
      "l\n",
      "i\n",
      "g\n",
      "e\n",
      "n\n",
      "c\n",
      "e\n",
      "\n"
     ]
    }
   ],
   "source": [
    "givenString=\"Artificial Intelligence\"\n",
    "verticalString=''\n",
    "\n",
    "for eachLetter in givenString :\n",
    " verticalString+= eachLetter + \"\\n\"\n",
    "    \n",
    "print(str(verticalString))"
   ]
  },
  {
   "cell_type": "code",
   "execution_count": 72,
   "id": "c6925998-b5a2-4a1a-b869-2400122b4f06",
   "metadata": {},
   "outputs": [
    {
     "name": "stdout",
     "output_type": "stream",
     "text": [
      "-Your Name-\n",
      "-Your Age-\n",
      "-Your Profession-\n",
      "\n"
     ]
    }
   ],
   "source": [
    "givenString=[\"-Your Name-\",\"-Your Age-\",\"-Your Profession-\"]\n",
    "verticalString=''\n",
    "\n",
    "for eachLetter in givenString :\n",
    " verticalString+= eachLetter + \"\\n\"\n",
    "    \n",
    "print(str(verticalString))"
   ]
  },
  {
   "cell_type": "code",
   "execution_count": 74,
   "id": "a71289f9-c1f3-4201-92e1-384c702e93d0",
   "metadata": {},
   "outputs": [
    {
     "name": "stdout",
     "output_type": "stream",
     "text": [
      "\n",
      "Tuple with Mixed Datatypes: \n",
      "(5, 'Welcome', 7, 'Hope')\n"
     ]
    }
   ],
   "source": [
    "# Refer this link : https://www.geeksforgeeks.org/python-tuples/\n",
    "# Print yhis mixered datatype using Tuples\n",
    "\n",
    "Tuple1 = (5, 'Welcome', 7, 'Hope')\n",
    "print(\"\\nTuple with Mixed Datatypes: \")\n",
    "print(Tuple1)"
   ]
  },
  {
   "cell_type": "code",
   "execution_count": 54,
   "id": "4874a436-1cd6-4523-8e4c-9ea4950db5ec",
   "metadata": {},
   "outputs": [
    {
     "name": "stdout",
     "output_type": "stream",
     "text": [
      "\n",
      "Tuple with Nested Tuples: \n",
      "((0, 1, 2, 3), ('python', 'Hope'))\n"
     ]
    }
   ],
   "source": [
    "# Refer this link : https://www.geeksforgeeks.org/python-tuples/\n",
    "\n",
    "Tuple1 = (0, 1, 2, 3)\n",
    "Tuple2 = ('python', 'Hope')\n",
    "Tuple3 = (Tuple1, Tuple2)\n",
    "print(\"\\nTuple with Nested Tuples: \")\n",
    "print(Tuple3)"
   ]
  },
  {
   "cell_type": "code",
   "execution_count": 66,
   "id": "501b0e33-ff9b-4cdf-8c17-1db56ff84eb0",
   "metadata": {},
   "outputs": [
    {
     "name": "stdout",
     "output_type": "stream",
     "text": [
      "19\n",
      "25\n",
      "1\n"
     ]
    }
   ],
   "source": [
    "# print Odd Numbers in the list\n",
    "\n",
    "listOfNumbers = [20,10,16,19,25,1,276,188]\n",
    "for num in listOfNumbers:\n",
    "    if num % 2 != 0:\n",
    "        print(num)"
   ]
  },
  {
   "cell_type": "code",
   "execution_count": 70,
   "id": "7324a92c-2286-4d00-9f37-3619cb8dc7eb",
   "metadata": {},
   "outputs": [
    {
     "name": "stdout",
     "output_type": "stream",
     "text": [
      "20\n",
      "10\n",
      "16\n",
      "276\n",
      "188\n"
     ]
    }
   ],
   "source": [
    "# print Even Numbers in the list\n",
    "\n",
    "listOfNumbers = [20,10,16,19,25,1,276,188]\n",
    "for num in listOfNumbers:\n",
    "    if num % 2 == 0:\n",
    "        print(num)"
   ]
  },
  {
   "cell_type": "code",
   "execution_count": null,
   "id": "8cdc27b2-2d05-4936-a8cc-48378f72393b",
   "metadata": {},
   "outputs": [],
   "source": []
  }
 ],
 "metadata": {
  "kernelspec": {
   "display_name": "Python 3 (ipykernel)",
   "language": "python",
   "name": "python3"
  },
  "language_info": {
   "codemirror_mode": {
    "name": "ipython",
    "version": 3
   },
   "file_extension": ".py",
   "mimetype": "text/x-python",
   "name": "python",
   "nbconvert_exporter": "python",
   "pygments_lexer": "ipython3",
   "version": "3.12.4"
  }
 },
 "nbformat": 4,
 "nbformat_minor": 5
}
