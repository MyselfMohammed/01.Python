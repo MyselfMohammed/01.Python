{
 "cells": [
  {
   "cell_type": "code",
   "execution_count": 1,
   "id": "d518664e-a5b6-4749-8644-49fb1b968851",
   "metadata": {},
   "outputs": [
    {
     "name": "stdout",
     "output_type": "stream",
     "text": [
      "HOPE AI\n"
     ]
    }
   ],
   "source": [
    "#print Statement\n",
    "print(\"HOPE AI\")"
   ]
  },
  {
   "cell_type": "code",
   "execution_count": 39,
   "id": "f28981c0-1a49-4cb6-843d-28a8d0824a54",
   "metadata": {},
   "outputs": [
    {
     "name": "stdin",
     "output_type": "stream",
     "text": [
      "Enter your institute Name : Hope AI\n"
     ]
    },
    {
     "data": {
      "text/plain": [
       "'Hope AI'"
      ]
     },
     "execution_count": 39,
     "metadata": {},
     "output_type": "execute_result"
    }
   ],
   "source": [
    "#Buy inputs\n",
    "input(\"Enter your institute Name :\")"
   ]
  },
  {
   "cell_type": "code",
   "execution_count": 15,
   "id": "430ae173-432d-438f-8a86-913a9ce95849",
   "metadata": {},
   "outputs": [
    {
     "name": "stdin",
     "output_type": "stream",
     "text": [
      "Enter your Name : Mohammed Gouse\n",
      "Enter your Age : 30\n",
      "Enter your School Name : RBC\n",
      "Enter your Degree : M.Sc Chemistry\n"
     ]
    },
    {
     "data": {
      "text/plain": [
       "'M.Sc Chemistry'"
      ]
     },
     "execution_count": 15,
     "metadata": {},
     "output_type": "execute_result"
    }
   ],
   "source": [
    "#Buy inputs\n",
    "input(\"Enter your Name :\")\n",
    "input(\"Enter your Age :\")\n",
    "input(\"Enter your School Name :\")\n",
    "input(\"Enter your Degree :\")"
   ]
  },
  {
   "cell_type": "code",
   "execution_count": 19,
   "id": "1ddb0126-5bf9-45b4-8a17-78e8bb8d0295",
   "metadata": {},
   "outputs": [
    {
     "name": "stdout",
     "output_type": "stream",
     "text": [
      "77\n"
     ]
    }
   ],
   "source": [
    "#Addition\n",
    "Num1= 43\n",
    "Num2= 34\n",
    "print(Num1+Num2)"
   ]
  },
  {
   "cell_type": "code",
   "execution_count": 29,
   "id": "64e4231b-0c4e-4234-8025-ff519120bd7e",
   "metadata": {},
   "outputs": [
    {
     "name": "stdout",
     "output_type": "stream",
     "text": [
      "9\n"
     ]
    }
   ],
   "source": [
    "#Subtraction\n",
    "Num1= 43\n",
    "Num2= 34\n",
    "print(Num1-Num2)"
   ]
  },
  {
   "cell_type": "code",
   "execution_count": 23,
   "id": "1503f532-ea1b-42dd-82af-785ba59d42a0",
   "metadata": {},
   "outputs": [
    {
     "name": "stdout",
     "output_type": "stream",
     "text": [
      "6111\n"
     ]
    }
   ],
   "source": [
    "#Multiplication\n",
    "Num1= 63\n",
    "Num2= 97\n",
    "print(Num1*Num2)"
   ]
  },
  {
   "cell_type": "code",
   "execution_count": 25,
   "id": "580b9769-9be8-4f0f-b54a-3660de88d1f0",
   "metadata": {},
   "outputs": [
    {
     "name": "stdout",
     "output_type": "stream",
     "text": [
      "2.4516129032258065\n"
     ]
    }
   ],
   "source": [
    "#Division\n",
    "Num1= 76\n",
    "Num2= 31\n",
    "print(Num1/Num2)"
   ]
  },
  {
   "cell_type": "code",
   "execution_count": 31,
   "id": "04db029a-127f-4bd5-b652-fbbfa364e900",
   "metadata": {},
   "outputs": [
    {
     "name": "stdout",
     "output_type": "stream",
     "text": [
      "2\n"
     ]
    }
   ],
   "source": [
    "#Floor Division\n",
    "Num1= 76\n",
    "Num2= 31\n",
    "print(Num1//Num2)"
   ]
  },
  {
   "cell_type": "code",
   "execution_count": 33,
   "id": "dbaca592-8b1b-4e44-8a41-984c37b230bc",
   "metadata": {},
   "outputs": [
    {
     "name": "stdout",
     "output_type": "stream",
     "text": [
      "14\n"
     ]
    }
   ],
   "source": [
    "#Modulo\n",
    "Num1= 76\n",
    "Num2= 31\n",
    "print(Num1%Num2)"
   ]
  },
  {
   "cell_type": "code",
   "execution_count": 37,
   "id": "1f870f34-b8ed-4273-87a0-7441197c2db2",
   "metadata": {},
   "outputs": [
    {
     "name": "stdout",
     "output_type": "stream",
     "text": [
      "256\n"
     ]
    }
   ],
   "source": [
    "#Power\n",
    "Num1= 4\n",
    "Num2= 4\n",
    "\n",
    "result = pow(Num1, Num2)\n",
    "print(result)"
   ]
  },
  {
   "cell_type": "code",
   "execution_count": null,
   "id": "fac4d743-6daf-483f-a5e1-baf120268f6e",
   "metadata": {},
   "outputs": [],
   "source": []
  }
 ],
 "metadata": {
  "kernelspec": {
   "display_name": "Python 3 (ipykernel)",
   "language": "python",
   "name": "python3"
  },
  "language_info": {
   "codemirror_mode": {
    "name": "ipython",
    "version": 3
   },
   "file_extension": ".py",
   "mimetype": "text/x-python",
   "name": "python",
   "nbconvert_exporter": "python",
   "pygments_lexer": "ipython3",
   "version": "3.12.4"
  }
 },
 "nbformat": 4,
 "nbformat_minor": 5
}
