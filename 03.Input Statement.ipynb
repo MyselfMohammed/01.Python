{
 "cells": [
  {
   "cell_type": "code",
   "execution_count": 1,
   "id": "63253e81-3a74-4dfd-819b-164de1461413",
   "metadata": {},
   "outputs": [
    {
     "name": "stdin",
     "output_type": "stream",
     "text": [
      "Enter the Input for num1 : 10\n",
      "Enter the Input for num2 : 20\n"
     ]
    },
    {
     "name": "stdout",
     "output_type": "stream",
     "text": [
      "Sum of Two Numbers : 30\n"
     ]
    }
   ],
   "source": [
    "num1=int(input(\"Enter the Input for num1 :\"))\n",
    "num2=int(input(\"Enter the Input for num2 :\"))\n",
    "print(\"Sum of Two Numbers :\",num1+num2)"
   ]
  },
  {
   "cell_type": "code",
   "execution_count": 5,
   "id": "231d864e-91b1-4ad6-90c1-deeaac3ce9ad",
   "metadata": {},
   "outputs": [
    {
     "name": "stdin",
     "output_type": "stream",
     "text": [
      "Enter the Input for num1 : 10\n"
     ]
    }
   ],
   "source": [
    "num1=int(input(\"Enter the Input for num1 :\"))"
   ]
  },
  {
   "cell_type": "code",
   "execution_count": 9,
   "id": "24a2df71-5bff-4287-9941-80b1c50d658a",
   "metadata": {},
   "outputs": [
    {
     "name": "stdout",
     "output_type": "stream",
     "text": [
      "hi\n"
     ]
    }
   ],
   "source": [
    "print('hi')"
   ]
  },
  {
   "cell_type": "code",
   "execution_count": null,
   "id": "d171b7b0-1c54-4489-881c-efa475b282dd",
   "metadata": {},
   "outputs": [],
   "source": []
  }
 ],
 "metadata": {
  "kernelspec": {
   "display_name": "Python 3 (ipykernel)",
   "language": "python",
   "name": "python3"
  },
  "language_info": {
   "codemirror_mode": {
    "name": "ipython",
    "version": 3
   },
   "file_extension": ".py",
   "mimetype": "text/x-python",
   "name": "python",
   "nbconvert_exporter": "python",
   "pygments_lexer": "ipython3",
   "version": "3.12.4"
  }
 },
 "nbformat": 4,
 "nbformat_minor": 5
}
