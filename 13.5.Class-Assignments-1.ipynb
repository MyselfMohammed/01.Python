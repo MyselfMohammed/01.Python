{
 "cells": [
  {
   "cell_type": "code",
   "execution_count": 3,
   "id": "ce929323-96bc-4e23-83e7-63dc1f793ed8",
   "metadata": {},
   "outputs": [],
   "source": [
    "from topicsInAI import topicsInAI\n",
    "from isYourNumberOddOrEven import isYourNumberOddOrEven\n",
    "from marriageEligibilityCheck import marriageEligibilityCheck\n",
    "from calculateMarkPercentage import calculateMarkPercentage\n",
    "from areaOfTriangle import areaOfTriangle\n",
    "from perimeterOfTriangle import perimeterOfTriangle"
   ]
  },
  {
   "cell_type": "code",
   "execution_count": 5,
   "id": "74360016-bfca-46ad-a2ff-f954a2efda86",
   "metadata": {},
   "outputs": [
    {
     "name": "stdout",
     "output_type": "stream",
     "text": [
      "Sub-fields in AI are:\n",
      "Machine Learning\n",
      "Neural Networks\n",
      "Vision\n",
      "Robotics\n",
      "Speech Processing\n",
      "Natural Language Processing\n",
      "\n"
     ]
    }
   ],
   "source": [
    "# Create a class and function, and list out the items in the list\n",
    "topicsInAI.topicsInAI()"
   ]
  },
  {
   "cell_type": "code",
   "execution_count": 9,
   "id": "0f837a8d-01c5-4351-8414-c2ddb2e3c150",
   "metadata": {},
   "outputs": [
    {
     "name": "stdin",
     "output_type": "stream",
     "text": [
      "Enter a number: 10\n"
     ]
    },
    {
     "name": "stdout",
     "output_type": "stream",
     "text": [
      "10 is Even Number\n"
     ]
    }
   ],
   "source": [
    "# Create a function that checks whether the given number is Odd or Even\n",
    "isYourNumberOddOrEven.isYourNumberOddOrEven()"
   ]
  },
  {
   "cell_type": "code",
   "execution_count": 11,
   "id": "df6f5510-85e6-4fcc-a5f4-77bd400296b5",
   "metadata": {},
   "outputs": [
    {
     "name": "stdout",
     "output_type": "stream",
     "text": [
      "Your Gender : Male\n",
      "Your Age : 25\n",
      "Eligible For Marriage\n"
     ]
    }
   ],
   "source": [
    "# Create a function that tells elegibility of marriage for male and female according to their age limit like 21 for male and 18 for female\n",
    "marriageEligibilityCheck.marriageEligibilityCheck(\"Male\",25)"
   ]
  },
  {
   "cell_type": "code",
   "execution_count": 13,
   "id": "582a75ec-f40d-44df-8eba-96a2ae452dd4",
   "metadata": {},
   "outputs": [
    {
     "name": "stdout",
     "output_type": "stream",
     "text": [
      "Subject-01 : 50\n",
      "Subject-02 : 60\n",
      "Subject-03 : 70\n",
      "Subject-04 : 80\n",
      "Subject-05 : 90\n",
      "Total : 350\n",
      "Percentage : 70.0\n"
     ]
    }
   ],
   "source": [
    "# calculate the percentage of your 10th mark\n",
    "\n",
    "calculateMarkPercentage.calculateMarkPercentage(50,60,70,80,90)"
   ]
  },
  {
   "cell_type": "code",
   "execution_count": 15,
   "id": "1624d5d7-7cdc-47e0-9b57-22dd174e6b88",
   "metadata": {},
   "outputs": [
    {
     "name": "stdout",
     "output_type": "stream",
     "text": [
      "Height : 32\n",
      "Breadh : 34\n",
      "Area of Triangle : 544.0\n"
     ]
    }
   ],
   "source": [
    "#print area and perimeter of triangle using class and functions\n",
    "\n",
    "areaOfTriangle.areaOfTriangle(32,34)"
   ]
  },
  {
   "cell_type": "code",
   "execution_count": 17,
   "id": "7416d35a-110a-4584-be1a-d1bf5a767142",
   "metadata": {},
   "outputs": [
    {
     "name": "stdout",
     "output_type": "stream",
     "text": [
      "Height-01 : 2\n",
      "Height-02 : 4\n",
      "Breadh : 4\n",
      "Perimeter of Triangle : 10\n"
     ]
    }
   ],
   "source": [
    "#print area and perimeter of triangle using class and functions\n",
    "\n",
    "perimeterOfTriangle.perimeterOfTriangle(2,4,4)"
   ]
  },
  {
   "cell_type": "code",
   "execution_count": null,
   "id": "7d77e33a-54ae-4754-9603-4ecdfccdd529",
   "metadata": {},
   "outputs": [],
   "source": []
  }
 ],
 "metadata": {
  "kernelspec": {
   "display_name": "Python 3 (ipykernel)",
   "language": "python",
   "name": "python3"
  },
  "language_info": {
   "codemirror_mode": {
    "name": "ipython",
    "version": 3
   },
   "file_extension": ".py",
   "mimetype": "text/x-python",
   "name": "python",
   "nbconvert_exporter": "python",
   "pygments_lexer": "ipython3",
   "version": "3.12.4"
  }
 },
 "nbformat": 4,
 "nbformat_minor": 5
}
