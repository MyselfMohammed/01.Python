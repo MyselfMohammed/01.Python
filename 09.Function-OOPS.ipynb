{
 "cells": [
  {
   "cell_type": "code",
   "execution_count": 37,
   "id": "35097a41-b6ab-4e08-bdf1-cb32e6e95cca",
   "metadata": {},
   "outputs": [],
   "source": [
    "#Topics : Function-01, Function-02 and Function-03\n",
    "def AgeCategory ():\n",
    "        if (age<18):\n",
    "            print(\"Children\")\n",
    "            category=\"Children\"\n",
    "        elif(age<35):\n",
    "            print(\"Adult\")\n",
    "            category=\"Adult\"\n",
    "        elif(age<59):\n",
    "            print(\"Citizen\")\n",
    "            category=\"Citizen\"\n",
    "        else:\n",
    "            print(\"Senior Citizen\")\n",
    "            category=\"Senior Citizen\"\n",
    "        return category"
   ]
  },
  {
   "cell_type": "code",
   "execution_count": 39,
   "id": "9a5b5ee2-1e0a-4cf7-8ad2-f29438a960f7",
   "metadata": {},
   "outputs": [
    {
     "name": "stdin",
     "output_type": "stream",
     "text": [
      "Please Input Your Age : 10\n"
     ]
    },
    {
     "name": "stdout",
     "output_type": "stream",
     "text": [
      "Children\n",
      "The Value Saved in Variable - varAgeCategory : Children\n"
     ]
    }
   ],
   "source": [
    "#Topics : Function-01, Function-02 and Function-03\n",
    "age = int(input(\"Please Input Your Age :\"))\n",
    "varAgeCategory=AgeCategory()\n",
    "print(\"The Value Saved in Variable - varAgeCategory :\", varAgeCategory)"
   ]
  },
  {
   "cell_type": "code",
   "execution_count": 41,
   "id": "57cdae5b-96da-4c9c-b80b-5bb202c0950d",
   "metadata": {},
   "outputs": [],
   "source": [
    "#Topics : Function-01, Function-02 and Function-03\n",
    "def AgeCategoryWithNoReturn ():\n",
    "        if (age<18):\n",
    "            print(\"Children\")\n",
    "            category=\"Children\"\n",
    "        elif(age<35):\n",
    "            print(\"Adult\")\n",
    "            category=\"Adult\"\n",
    "        elif(age<59):\n",
    "            print(\"Citizen\")\n",
    "            category=\"Citizen\"\n",
    "        else:\n",
    "            print(\"Senior Citizen\")\n",
    "            category=\"Senior Citizen\"\n",
    "        "
   ]
  },
  {
   "cell_type": "code",
   "execution_count": 43,
   "id": "9fc6e06f-f51c-4eed-bc6a-7d7abbaac23b",
   "metadata": {},
   "outputs": [
    {
     "name": "stdin",
     "output_type": "stream",
     "text": [
      "Enter the Age : 10\n"
     ]
    },
    {
     "name": "stdout",
     "output_type": "stream",
     "text": [
      "Children\n",
      "The Value Saved in Variable - varAgeCategory : None\n"
     ]
    }
   ],
   "source": [
    "#Topics : Function-01, Function-02 and Function-03\n",
    "age = int(input(\"Enter the Age :\"))\n",
    "varAgeCategoryWithNoReturn = AgeCategoryWithNoReturn()\n",
    "print(\"The Value Saved in Variable - varAgeCategory :\", varAgeCategoryWithNoReturn)"
   ]
  },
  {
   "cell_type": "code",
   "execution_count": 73,
   "id": "7df85869-32b9-44ad-a546-f4a43a8fee5f",
   "metadata": {},
   "outputs": [],
   "source": [
    "#Topics : Function-04\n",
    "\n",
    "def isYourNumberOddOrEven ():\n",
    "    num=int(input(\"Enter any Number to Check that It is Odd or Even :\"))\n",
    "    if((num%2)==0):\n",
    "        print(\"Entered Number is Even\")\n",
    "        message=\"Returned Value is Even\"\n",
    "    else:\n",
    "        print(\"Entered Number is Odd\")\n",
    "        message=\"Returned Value is Odd\"\n",
    "    return message"
   ]
  },
  {
   "cell_type": "code",
   "execution_count": 75,
   "id": "2739202b-4692-4feb-9765-340ce01b34d5",
   "metadata": {},
   "outputs": [
    {
     "name": "stdin",
     "output_type": "stream",
     "text": [
      "Enter any Number to Check that It is Odd or Even : 10\n"
     ]
    },
    {
     "name": "stdout",
     "output_type": "stream",
     "text": [
      "Entered Number is Even\n",
      "Returned Value is Even\n"
     ]
    }
   ],
   "source": [
    "#Topics : Function-04\n",
    "messageNew=isYourNumberOddOrEven()\n",
    "print(messageNew)"
   ]
  },
  {
   "cell_type": "code",
   "execution_count": 65,
   "id": "1123d9f8-21d2-4333-93fe-59482e2262a4",
   "metadata": {},
   "outputs": [],
   "source": [
    "#Topics : Function-05\n",
    "def BMI():\n",
    "    bmi=int(input(\"Enter the Your BMI Index :\"))\n",
    "    if (bmi<16.5):\n",
    "     print(\"Severely Underweight\")\n",
    "     message=\"Severely Underweight\"\n",
    "    elif(bmi<18.5):\n",
    "     print(\"Underweight\")\n",
    "     message=\"Underweight\"\n",
    "    elif(bmi<25):\n",
    "     print(\"Normal\")\n",
    "     message=\"Normal\"\n",
    "    elif(bmi<30):\n",
    "     print(\"Overweight\")\n",
    "     message=\"Overweight\"\n",
    "    elif(bmi<35):\n",
    "     print(\"Obese Class - 01\")\n",
    "     message=\"Obese Class - 01\"\n",
    "    elif(bmi<40):\n",
    "     print(\"Obese Class - 02\")\n",
    "     message=\"Obese Class - 02\"\n",
    "    elif(bmi<45):\n",
    "     print(\"Severely Obese\")\n",
    "     message=\"Severely Obese\"\n",
    "    elif(bmi<50):\n",
    "     print(\"Morbidly Obese\")\n",
    "     message=\"Morbidly Obese\"\n",
    "    elif(bmi<60):\n",
    "     print(\"Super Obese\")\n",
    "     message=\"Super Obese\"\n",
    "    else:\n",
    "     print(\"Hyper Obese\")\n",
    "     message=\"Hyper Obese\"\n",
    "    return message"
   ]
  },
  {
   "cell_type": "code",
   "execution_count": 77,
   "id": "e34d10ba-1fa5-40aa-9218-cc51c69d5beb",
   "metadata": {},
   "outputs": [
    {
     "name": "stdin",
     "output_type": "stream",
     "text": [
      "Enter the Your BMI Index : 25\n"
     ]
    },
    {
     "name": "stdout",
     "output_type": "stream",
     "text": [
      "Overweight\n"
     ]
    }
   ],
   "source": [
    "BMI()"
   ]
  },
  {
   "cell_type": "code",
   "execution_count": 97,
   "id": "7139b86f-9ebe-4a12-b112-783bdb16b094",
   "metadata": {},
   "outputs": [
    {
     "name": "stdin",
     "output_type": "stream",
     "text": [
      "Enter the Your BMI Index : 25\n"
     ]
    },
    {
     "name": "stdout",
     "output_type": "stream",
     "text": [
      "Overweight\n"
     ]
    }
   ],
   "source": [
    "bmi=BMI()"
   ]
  },
  {
   "cell_type": "code",
   "execution_count": 3,
   "id": "61be0a89-5cd9-4799-9054-58944e2a358e",
   "metadata": {},
   "outputs": [],
   "source": [
    "#Topics : Function-05\n",
    "\n",
    "def addition(num1,num2):\n",
    "    add=num1+num2\n",
    "    return add"
   ]
  },
  {
   "cell_type": "code",
   "execution_count": 5,
   "id": "a26e1b21-2d31-40ec-8808-14a946afc8b9",
   "metadata": {},
   "outputs": [
    {
     "data": {
      "text/plain": [
       "15"
      ]
     },
     "execution_count": 5,
     "metadata": {},
     "output_type": "execute_result"
    }
   ],
   "source": [
    "addition(5,10)"
   ]
  },
  {
   "cell_type": "code",
   "execution_count": 13,
   "id": "f39129de-3c97-4e47-b008-19c60e61ecba",
   "metadata": {},
   "outputs": [],
   "source": [
    "#Topics : Function-05\n",
    "\n",
    "def subraction(num1,num2):\n",
    "    sub=num1-num2\n",
    "    return sub"
   ]
  },
  {
   "cell_type": "code",
   "execution_count": 15,
   "id": "b5e47510-8aae-47ed-a810-29e0b4c3a16e",
   "metadata": {},
   "outputs": [
    {
     "data": {
      "text/plain": [
       "2"
      ]
     },
     "execution_count": 15,
     "metadata": {},
     "output_type": "execute_result"
    }
   ],
   "source": [
    "subraction(4,2)"
   ]
  },
  {
   "cell_type": "code",
   "execution_count": null,
   "id": "cc4282fd-cee6-4e9e-a334-4360c0da78c6",
   "metadata": {},
   "outputs": [],
   "source": []
  }
 ],
 "metadata": {
  "kernelspec": {
   "display_name": "Python 3 (ipykernel)",
   "language": "python",
   "name": "python3"
  },
  "language_info": {
   "codemirror_mode": {
    "name": "ipython",
    "version": 3
   },
   "file_extension": ".py",
   "mimetype": "text/x-python",
   "name": "python",
   "nbconvert_exporter": "python",
   "pygments_lexer": "ipython3",
   "version": "3.12.4"
  }
 },
 "nbformat": 4,
 "nbformat_minor": 5
}
