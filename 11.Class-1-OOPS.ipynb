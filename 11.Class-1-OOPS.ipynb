{
 "cells": [
  {
   "cell_type": "code",
   "execution_count": 3,
   "id": "7df85869-32b9-44ad-a546-f4a43a8fee5f",
   "metadata": {},
   "outputs": [],
   "source": [
    "class multipleFunctions():\n",
    "    def isYourNumberOddOrEven ():\n",
    "        num=int(input(\"Enter any Number to Check that It is Odd or Even :\"))\n",
    "        if((num%2)==0):\n",
    "            print(\"Entered Number is Even\")\n",
    "            message=\"Returned Value is Even\"\n",
    "        else:\n",
    "            print(\"Entered Number is Odd\")\n",
    "            message=\"Returned Value is Odd\"\n",
    "        return message\n",
    "    \n",
    "    def BMI():\n",
    "        bmi=int(input(\"Enter the Your BMI Index :\"))\n",
    "        if (bmi<16.5):\n",
    "         print(\"Severely Underweight\")\n",
    "         message=\"Severely Underweight\"\n",
    "        elif(bmi<18.5):\n",
    "         print(\"Underweight\")\n",
    "         message=\"Underweight\"\n",
    "        elif(bmi<25):\n",
    "         print(\"Normal\")\n",
    "         message=\"Normal\"\n",
    "        elif(bmi<30):\n",
    "         print(\"Overweight\")\n",
    "         message=\"Overweight\"\n",
    "        elif(bmi<35):\n",
    "         print(\"Obese Class - 01\")\n",
    "         message=\"Obese Class - 01\"\n",
    "        elif(bmi<40):\n",
    "         print(\"Obese Class - 02\")\n",
    "         message=\"Obese Class - 02\"\n",
    "        elif(bmi<45):\n",
    "         print(\"Severely Obese\")\n",
    "         message=\"Severely Obese\"\n",
    "        elif(bmi<50):\n",
    "         print(\"Morbidly Obese\")\n",
    "         message=\"Morbidly Obese\"\n",
    "        elif(bmi<60):\n",
    "         print(\"Super Obese\")\n",
    "         message=\"Super Obese\"\n",
    "        else:\n",
    "         print(\"Hyper Obese\")\n",
    "         message=\"Hyper Obese\"\n",
    "        return message"
   ]
  },
  {
   "cell_type": "code",
   "execution_count": 5,
   "id": "63a7b1bf-0418-41d1-9c83-4e2340c56cfb",
   "metadata": {},
   "outputs": [
    {
     "name": "stdin",
     "output_type": "stream",
     "text": [
      "Enter the Your BMI Index : 25\n"
     ]
    },
    {
     "name": "stdout",
     "output_type": "stream",
     "text": [
      "Overweight\n"
     ]
    },
    {
     "data": {
      "text/plain": [
       "'Overweight'"
      ]
     },
     "execution_count": 5,
     "metadata": {},
     "output_type": "execute_result"
    }
   ],
   "source": [
    "multipleFunctions.BMI()"
   ]
  },
  {
   "cell_type": "code",
   "execution_count": 7,
   "id": "3f2fafc3-fbfc-4a3c-90ee-ebf6ff0a2d18",
   "metadata": {},
   "outputs": [
    {
     "name": "stdin",
     "output_type": "stream",
     "text": [
      "Enter any Number to Check that It is Odd or Even : 3\n"
     ]
    },
    {
     "name": "stdout",
     "output_type": "stream",
     "text": [
      "Entered Number is Odd\n"
     ]
    },
    {
     "data": {
      "text/plain": [
       "'Returned Value is Odd'"
      ]
     },
     "execution_count": 7,
     "metadata": {},
     "output_type": "execute_result"
    }
   ],
   "source": [
    "multipleFunctions.isYourNumberOddOrEven()"
   ]
  },
  {
   "cell_type": "code",
   "execution_count": null,
   "id": "660a1bfd-3d0e-46ee-b08c-1012a141829c",
   "metadata": {},
   "outputs": [],
   "source": []
  }
 ],
 "metadata": {
  "kernelspec": {
   "display_name": "Python 3 (ipykernel)",
   "language": "python",
   "name": "python3"
  },
  "language_info": {
   "codemirror_mode": {
    "name": "ipython",
    "version": 3
   },
   "file_extension": ".py",
   "mimetype": "text/x-python",
   "name": "python",
   "nbconvert_exporter": "python",
   "pygments_lexer": "ipython3",
   "version": "3.12.4"
  }
 },
 "nbformat": 4,
 "nbformat_minor": 5
}
