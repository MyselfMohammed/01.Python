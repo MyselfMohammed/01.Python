{
 "cells": [
  {
   "cell_type": "code",
   "execution_count": 3,
   "id": "37f3e889-26c4-467d-84b0-030eed65675f",
   "metadata": {},
   "outputs": [
    {
     "name": "stdout",
     "output_type": "stream",
     "text": [
      "Children\n",
      "Adult\n",
      "Adult\n",
      "Citizen\n",
      "Citizen\n",
      "Senior Citizen\n",
      "Senior Citizen\n",
      "Senior Citizen\n",
      "Senior Citizen\n",
      "Senior Citizen\n"
     ]
    }
   ],
   "source": [
    "#age=int(input(\"Enter Your Age :\"))\n",
    "listOfAge=[10,20,30,40,50,60,70,80,90,100]\n",
    "\n",
    "for age in listOfAge :\n",
    "    if (age<18):\n",
    "        print(\"Children\")\n",
    "    elif(age<35):\n",
    "        print(\"Adult\")\n",
    "    elif(age<59):\n",
    "        print(\"Citizen\")\n",
    "    else:\n",
    "        print(\"Senior Citizen\")"
   ]
  },
  {
   "cell_type": "code",
   "execution_count": 12,
   "id": "76e5d6cf-eca3-4db5-9755-24ed74272d20",
   "metadata": {},
   "outputs": [
    {
     "name": "stdin",
     "output_type": "stream",
     "text": [
      "Enter any Number to Check that It is Odd or Even : 3\n"
     ]
    },
    {
     "name": "stdout",
     "output_type": "stream",
     "text": [
      "Entered Number is Odd\n"
     ]
    }
   ],
   "source": [
    "num=int(input(\"Enter any Number to Check that It is Odd or Even :\"))\n",
    "\n",
    "if((num%2)==0):\n",
    "    print(\"Entered Number is Even\")\n",
    "else:\n",
    "    print(\"Entered Number is Odd\")"
   ]
  },
  {
   "cell_type": "code",
   "execution_count": null,
   "id": "4710995d-6ac0-476b-9e7b-dcfffac332c8",
   "metadata": {},
   "outputs": [],
   "source": []
  },
  {
   "cell_type": "code",
   "execution_count": null,
   "id": "fc327b1c-16f4-41c3-aad6-d3937761cb7e",
   "metadata": {},
   "outputs": [],
   "source": []
  }
 ],
 "metadata": {
  "kernelspec": {
   "display_name": "Python 3 (ipykernel)",
   "language": "python",
   "name": "python3"
  },
  "language_info": {
   "codemirror_mode": {
    "name": "ipython",
    "version": 3
   },
   "file_extension": ".py",
   "mimetype": "text/x-python",
   "name": "python",
   "nbconvert_exporter": "python",
   "pygments_lexer": "ipython3",
   "version": "3.12.4"
  }
 },
 "nbformat": 4,
 "nbformat_minor": 5
}
