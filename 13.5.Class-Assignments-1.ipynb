{
 "cells": [
  {
   "cell_type": "code",
   "execution_count": 43,
   "id": "ce929323-96bc-4e23-83e7-63dc1f793ed8",
   "metadata": {},
   "outputs": [],
   "source": [
    "class isYourNumberOddOrEven () :\n",
    "    def isYourNumberOddOrEven ():\n",
    "        num=int(input(\"Enter any Number to Check that It is Odd or Even :\"))\n",
    "        if((num%2)==0):\n",
    "            print(\"Entered Number is Even\")\n",
    "            message=\"Returned Value is Even\"\n",
    "        else:\n",
    "            print(\"Entered Number is Odd\")\n",
    "            message=\"Returned Value is Odd\"\n",
    "        return message"
   ]
  },
  {
   "cell_type": "code",
   "execution_count": 45,
   "id": "d32833f0-0670-4a91-a905-ee4726aa47f2",
   "metadata": {},
   "outputs": [
    {
     "name": "stdin",
     "output_type": "stream",
     "text": [
      "Enter any Number to Check that It is Odd or Even : 10\n"
     ]
    },
    {
     "name": "stdout",
     "output_type": "stream",
     "text": [
      "Entered Number is Even\n"
     ]
    },
    {
     "data": {
      "text/plain": [
       "'Returned Value is Even'"
      ]
     },
     "execution_count": 45,
     "metadata": {},
     "output_type": "execute_result"
    }
   ],
   "source": [
    "isYourNumberOddOrEven.isYourNumberOddOrEven()"
   ]
  },
  {
   "cell_type": "code",
   "execution_count": 49,
   "id": "64f2593e-4595-4950-938a-23b805f912de",
   "metadata": {},
   "outputs": [],
   "source": [
    "class BMI () :\n",
    "    def BMI():\n",
    "        bmi=int(input(\"Enter the Your BMI Index :\"))\n",
    "        if (bmi<16.5):\n",
    "         print(\"Severely Underweight\")\n",
    "         message=\"Severely Underweight\"\n",
    "        elif(bmi<18.5):\n",
    "         print(\"Underweight\")\n",
    "         message=\"Underweight\"\n",
    "        elif(bmi<25):\n",
    "         print(\"Normal\")\n",
    "         message=\"Normal\"\n",
    "        elif(bmi<30):\n",
    "         print(\"Overweight\")\n",
    "         message=\"Overweight\"\n",
    "        elif(bmi<35):\n",
    "         print(\"Obese Class - 01\")\n",
    "         message=\"Obese Class - 01\"\n",
    "        elif(bmi<40):\n",
    "         print(\"Obese Class - 02\")\n",
    "         message=\"Obese Class - 02\"\n",
    "        elif(bmi<45):\n",
    "         print(\"Severely Obese\")\n",
    "         message=\"Severely Obese\"\n",
    "        elif(bmi<50):\n",
    "         print(\"Morbidly Obese\")\n",
    "         message=\"Morbidly Obese\"\n",
    "        elif(bmi<60):\n",
    "         print(\"Super Obese\")\n",
    "         message=\"Super Obese\"\n",
    "        else:\n",
    "         print(\"Hyper Obese\")\n",
    "         message=\"Hyper Obese\"\n",
    "        return message"
   ]
  },
  {
   "cell_type": "code",
   "execution_count": 51,
   "id": "62a05a70-db16-4ae3-85a1-ca24192432c6",
   "metadata": {},
   "outputs": [
    {
     "name": "stdin",
     "output_type": "stream",
     "text": [
      "Enter the Your BMI Index : 25\n"
     ]
    },
    {
     "name": "stdout",
     "output_type": "stream",
     "text": [
      "Overweight\n"
     ]
    },
    {
     "data": {
      "text/plain": [
       "'Overweight'"
      ]
     },
     "execution_count": 51,
     "metadata": {},
     "output_type": "execute_result"
    }
   ],
   "source": [
    "BMI.BMI()"
   ]
  },
  {
   "cell_type": "code",
   "execution_count": 53,
   "id": "f5bb790f-d01a-4ec9-85c8-96998d26a65a",
   "metadata": {},
   "outputs": [],
   "source": [
    "#Create a function and list out the items in the list\n",
    "class topicsInAI () :\n",
    "    def topicsInAI():\n",
    "        \n",
    "        topics=[\"Sub-fields in AI are:\",\"Machine Learning\",\"Neural Networks\",\"Vision\",\"Robotics\",\"Speech Processing\",\"Natural Language Processing\"]\n",
    "        verticalString=''\n",
    "        \n",
    "        for eachTopic in topics :\n",
    "         verticalString+= eachTopic + \"\\n\"\n",
    "                \n",
    "        print(str(verticalString))"
   ]
  },
  {
   "cell_type": "code",
   "execution_count": 55,
   "id": "1a0f231f-9056-4342-b8cc-3ce1387a74d3",
   "metadata": {},
   "outputs": [
    {
     "name": "stdout",
     "output_type": "stream",
     "text": [
      "Sub-fields in AI are:\n",
      "Machine Learning\n",
      "Neural Networks\n",
      "Vision\n",
      "Robotics\n",
      "Speech Processing\n",
      "Natural Language Processing\n",
      "\n"
     ]
    }
   ],
   "source": [
    "topicsInAI.topicsInAI()"
   ]
  },
  {
   "cell_type": "code",
   "execution_count": 57,
   "id": "03989177-8f22-4f6e-843b-ddaebe59c888",
   "metadata": {},
   "outputs": [],
   "source": [
    "# Create a function that checks whether the given number is Odd or Even\n",
    "class isYourNumberOddOrEven () :\n",
    "    def isYourNumberOddOrEven ():\n",
    "        num=int(input(\"Enter a number:\"))\n",
    "        if((num%2)==0):\n",
    "            print(num,\"is Even Number\")\n",
    "        else:\n",
    "            print(num,\"is Odd Number\")"
   ]
  },
  {
   "cell_type": "code",
   "execution_count": 59,
   "id": "aa43948e-fd39-4794-ab7a-24077afe6c4c",
   "metadata": {},
   "outputs": [
    {
     "name": "stdin",
     "output_type": "stream",
     "text": [
      "Enter a number: 10\n"
     ]
    },
    {
     "name": "stdout",
     "output_type": "stream",
     "text": [
      "10 is Even Number\n"
     ]
    }
   ],
   "source": [
    "isYourNumberOddOrEven.isYourNumberOddOrEven()"
   ]
  },
  {
   "cell_type": "code",
   "execution_count": 61,
   "id": "89b32749-cd06-4476-9e86-236f02f94a0d",
   "metadata": {},
   "outputs": [],
   "source": [
    "# Create a function that tells elegibility of marriage for male and female according to their age limit like 21 for male and 18 for female\n",
    "class marriageEligibilityCheck () :\n",
    "    def marriageEligibilityCheck(gender,age):\n",
    "          \n",
    "          if gender == (\"Male\") and age>=21:\n",
    "              print(\"Your Gender :\", gender)\n",
    "              print(\"Your Age :\", age)\n",
    "              print (\"Eligible For Marriage\")\n",
    "          elif gender == (\"Male\") and age<21:\n",
    "              print(\"Your Gender :\", gender)\n",
    "              print(\"Your Age :\", age)\n",
    "              print (\"Not Eligible For Marriage\")\n",
    "          elif gender == (\"Female\") and age>=18:\n",
    "              print(\"Your Gender :\", gender)\n",
    "              print(\"Your Age :\", age)\n",
    "              print (\"Eligible For Marriage\")\n",
    "          else: #gender == (\"Female\") and age<18:\n",
    "              print(\"Your Gender :\", gender)\n",
    "              print(\"Your Age :\", age)\n",
    "              print (\"Not Eligible For Marriage\")"
   ]
  },
  {
   "cell_type": "code",
   "execution_count": 65,
   "id": "719e4e01-8b97-4c94-b81a-851911a56138",
   "metadata": {},
   "outputs": [
    {
     "name": "stdout",
     "output_type": "stream",
     "text": [
      "Your Gender : Male\n",
      "Your Age : 25\n",
      "Eligible For Marriage\n"
     ]
    }
   ],
   "source": [
    "marriageEligibilityCheck.marriageEligibilityCheck(\"Male\",25)"
   ]
  },
  {
   "cell_type": "code",
   "execution_count": 67,
   "id": "afb46cc1-230f-45a7-8307-bdef33063be3",
   "metadata": {},
   "outputs": [],
   "source": [
    "# calculate the percentage of your 10th mark\n",
    "class calculateMarkPercentage () :\n",
    "\n",
    "    def calculateMarkPercentage(Tamil,English,Maths,Science,SocialScience):\n",
    "        print(\"Subject-01 :\",Tamil)\n",
    "        print(\"Subject-02 :\",English)\n",
    "        print(\"Subject-03 :\",Maths)\n",
    "        print(\"Subject-04 :\",Science)\n",
    "        print(\"Subject-05 :\",SocialScience)\n",
    "        total=(Tamil+English+Maths+Science+SocialScience)\n",
    "        print(\"Total :\", total)\n",
    "        print(\"Percentage :\",((float(total / 500)) * 100))"
   ]
  },
  {
   "cell_type": "code",
   "execution_count": 71,
   "id": "7a5665fd-dac5-4d26-a4f9-fa419ec658b2",
   "metadata": {},
   "outputs": [
    {
     "name": "stdout",
     "output_type": "stream",
     "text": [
      "Subject-01 : 50\n",
      "Subject-02 : 60\n",
      "Subject-03 : 70\n",
      "Subject-04 : 80\n",
      "Subject-05 : 90\n",
      "Total : 350\n",
      "Percentage : 70.0\n"
     ]
    }
   ],
   "source": [
    "calculateMarkPercentage.calculateMarkPercentage(50,60,70,80,90)"
   ]
  },
  {
   "cell_type": "code",
   "execution_count": 73,
   "id": "3e449511-66f2-4f2e-acaa-e00d6b548fde",
   "metadata": {},
   "outputs": [],
   "source": [
    "#print area of triangle using functions\n",
    "class areaOfTriangle () :\n",
    "    def areaOfTriangle(Height,Breadth):\n",
    "        print(\"Height :\",Height)\n",
    "        print(\"Breadh :\",Breadth)\n",
    "        print(\"Area of Triangle :\",(Height*Breadth)/2)"
   ]
  },
  {
   "cell_type": "code",
   "execution_count": 77,
   "id": "ab2e7b00-dec3-411b-826c-5e0f8a4636e7",
   "metadata": {},
   "outputs": [
    {
     "name": "stdout",
     "output_type": "stream",
     "text": [
      "Height : 32\n",
      "Breadh : 34\n",
      "Area of Triangle : 544.0\n"
     ]
    }
   ],
   "source": [
    "areaOfTriangle.areaOfTriangle(32,34)"
   ]
  },
  {
   "cell_type": "code",
   "execution_count": 79,
   "id": "c891e69e-0693-4ac0-ad66-21bc9f45fe4f",
   "metadata": {},
   "outputs": [],
   "source": [
    "#print perimeter of triangle using functions\n",
    "class perimeterOfTriangle () :\n",
    "    def perimeterOfTriangle(Height1,Height2,Breadth):\n",
    "        print(\"Height-01 :\",Height1)\n",
    "        print(\"Height-02 :\",Height2)\n",
    "        print(\"Breadh :\",Breadth)\n",
    "        print(\"Perimeter of Triangle :\",(Height1 + Height2 + Breadth))"
   ]
  },
  {
   "cell_type": "code",
   "execution_count": 81,
   "id": "ac9e1b7a-7696-46a7-bd76-b2094297dd36",
   "metadata": {},
   "outputs": [
    {
     "name": "stdout",
     "output_type": "stream",
     "text": [
      "Height-01 : 2\n",
      "Height-02 : 4\n",
      "Breadh : 4\n",
      "Perimeter of Triangle : 10\n"
     ]
    }
   ],
   "source": [
    "perimeterOfTriangle.perimeterOfTriangle(2,4,4)"
   ]
  }
 ],
 "metadata": {
  "kernelspec": {
   "display_name": "Python 3 (ipykernel)",
   "language": "python",
   "name": "python3"
  },
  "language_info": {
   "codemirror_mode": {
    "name": "ipython",
    "version": 3
   },
   "file_extension": ".py",
   "mimetype": "text/x-python",
   "name": "python",
   "nbconvert_exporter": "python",
   "pygments_lexer": "ipython3",
   "version": "3.12.4"
  }
 },
 "nbformat": 4,
 "nbformat_minor": 5
}
